{
 "cells": [
  {
   "cell_type": "markdown",
   "metadata": {
    "slideshow": {
     "slide_type": "slide"
    }
   },
   "source": [
    "### Predictive model for PREPAID – MI Cross Sell (IDD Callers / Migrants) \n",
    "\n",
    "### Objective: \n",
    "- To increase number of Mobile Internet subscribers among IDD Callers / Migrants for the coming MI campaign \n",
    "\n",
    "### Impact on Business:\n",
    "- Increase data spending by Prepaid IDD Callers / Migrants \n",
    "\n",
    "\n",
    "### Study period:\n",
    "- Sep-Dec 2017\n",
    "\n",
    "\n",
    "### Selection Criterion:\n",
    "\n",
    "- Prepaid IDD Callers / Migrants \n",
    "    - Active Prepaid subs who were activated before Sep ‘17, i.e. LOS >=3 during the study period\n",
    "    - Made IDD call in Sep, Oct and Nov ‘2017 consecutively\n",
    "\n",
    "\n",
    "### Target Definition: \n",
    "\n",
    "- Target = 0\n",
    "    - Pure Non MI Taker (Sep'17 - Dec'17)\n",
    "    \n",
    "    \n",
    "- Target = 1\n",
    "    - New MI Takers (Sep'17 - Nov'17 w/o MI but take up MI in Dec'17)\n",
    "\n",
    "\n",
    "- Sample size : 178,156 "
   ]
  },
  {
   "cell_type": "markdown",
   "metadata": {
    "slideshow": {
     "slide_type": "slide"
    }
   },
   "source": [
    "## Data Exploration"
   ]
  },
  {
   "cell_type": "code",
   "execution_count": 5,
   "metadata": {
    "slideshow": {
     "slide_type": "subslide"
    }
   },
   "outputs": [
    {
     "data": {
      "text/html": [
       "<div>\n",
       "<style>\n",
       "    .dataframe thead tr:only-child th {\n",
       "        text-align: right;\n",
       "    }\n",
       "\n",
       "    .dataframe thead th {\n",
       "        text-align: left;\n",
       "    }\n",
       "\n",
       "    .dataframe tbody tr th {\n",
       "        vertical-align: top;\n",
       "    }\n",
       "</style>\n",
       "<table border=\"1\" class=\"dataframe\">\n",
       "  <thead>\n",
       "    <tr style=\"text-align: right;\">\n",
       "      <th></th>\n",
       "      <th>SUBSCRIBER_ARRANGEMENT_ID</th>\n",
       "      <th>DATA_DAY</th>\n",
       "      <th>NAME_PREPAID_BRAND2</th>\n",
       "      <th>DEVICE_OS_TYPE2</th>\n",
       "      <th>NETWORK_BANDS</th>\n",
       "      <th>DEVICE_TYPE</th>\n",
       "      <th>GENDER</th>\n",
       "      <th>AGE2</th>\n",
       "      <th>TOP_IDD_COUNTRY</th>\n",
       "      <th>RACE</th>\n",
       "      <th>...</th>\n",
       "      <th>SWX_DATA</th>\n",
       "      <th>SWX_IDD</th>\n",
       "      <th>MI_T1</th>\n",
       "      <th>MI_T2</th>\n",
       "      <th>MI_T3</th>\n",
       "      <th>MI_T4</th>\n",
       "      <th>MI_T5</th>\n",
       "      <th>MI_5MONTH</th>\n",
       "      <th>MI_4MONTH</th>\n",
       "      <th>MI_TAG</th>\n",
       "    </tr>\n",
       "  </thead>\n",
       "  <tbody>\n",
       "    <tr>\n",
       "      <th>0</th>\n",
       "      <td>65448788</td>\n",
       "      <td>00:00.0</td>\n",
       "      <td>X2</td>\n",
       "      <td>ANDROID</td>\n",
       "      <td>3G</td>\n",
       "      <td>SMART PHONE</td>\n",
       "      <td>MALE</td>\n",
       "      <td>24</td>\n",
       "      <td>UNKNOWN</td>\n",
       "      <td>MALAY</td>\n",
       "      <td>...</td>\n",
       "      <td>6.666667</td>\n",
       "      <td>2.333333</td>\n",
       "      <td>0</td>\n",
       "      <td>0</td>\n",
       "      <td>0</td>\n",
       "      <td>1</td>\n",
       "      <td>0</td>\n",
       "      <td>1</td>\n",
       "      <td>1</td>\n",
       "      <td>1</td>\n",
       "    </tr>\n",
       "    <tr>\n",
       "      <th>1</th>\n",
       "      <td>66158847</td>\n",
       "      <td>00:00.0</td>\n",
       "      <td>LEGACYXPAX</td>\n",
       "      <td>UNKNOWN</td>\n",
       "      <td>NO DATA</td>\n",
       "      <td>BASIC PHONE</td>\n",
       "      <td>FEMALE</td>\n",
       "      <td>41</td>\n",
       "      <td>UNKNOWN</td>\n",
       "      <td>MALAY</td>\n",
       "      <td>...</td>\n",
       "      <td>0.000000</td>\n",
       "      <td>7.000000</td>\n",
       "      <td>0</td>\n",
       "      <td>0</td>\n",
       "      <td>0</td>\n",
       "      <td>1</td>\n",
       "      <td>0</td>\n",
       "      <td>1</td>\n",
       "      <td>1</td>\n",
       "      <td>1</td>\n",
       "    </tr>\n",
       "    <tr>\n",
       "      <th>2</th>\n",
       "      <td>66281977</td>\n",
       "      <td>00:00.0</td>\n",
       "      <td>LEGACYXPAX</td>\n",
       "      <td>ANDROID</td>\n",
       "      <td>3G</td>\n",
       "      <td>SMART PHONE</td>\n",
       "      <td>FEMALE</td>\n",
       "      <td>67</td>\n",
       "      <td>UNKNOWN</td>\n",
       "      <td>MALAY</td>\n",
       "      <td>...</td>\n",
       "      <td>0.000000</td>\n",
       "      <td>4.000000</td>\n",
       "      <td>0</td>\n",
       "      <td>0</td>\n",
       "      <td>0</td>\n",
       "      <td>1</td>\n",
       "      <td>0</td>\n",
       "      <td>1</td>\n",
       "      <td>1</td>\n",
       "      <td>1</td>\n",
       "    </tr>\n",
       "    <tr>\n",
       "      <th>3</th>\n",
       "      <td>66523177</td>\n",
       "      <td>00:00.0</td>\n",
       "      <td>X2</td>\n",
       "      <td>ANDROID</td>\n",
       "      <td>3G</td>\n",
       "      <td>SMART PHONE</td>\n",
       "      <td>FEMALE</td>\n",
       "      <td>42</td>\n",
       "      <td>UNKNOWN</td>\n",
       "      <td>MALAY</td>\n",
       "      <td>...</td>\n",
       "      <td>0.000000</td>\n",
       "      <td>3.333333</td>\n",
       "      <td>0</td>\n",
       "      <td>0</td>\n",
       "      <td>0</td>\n",
       "      <td>0</td>\n",
       "      <td>1</td>\n",
       "      <td>1</td>\n",
       "      <td>0</td>\n",
       "      <td>0</td>\n",
       "    </tr>\n",
       "    <tr>\n",
       "      <th>4</th>\n",
       "      <td>68730634</td>\n",
       "      <td>00:00.0</td>\n",
       "      <td>X2</td>\n",
       "      <td>ANDROID</td>\n",
       "      <td>3G</td>\n",
       "      <td>SMART PHONE</td>\n",
       "      <td>MALE</td>\n",
       "      <td>36</td>\n",
       "      <td>UNKNOWN</td>\n",
       "      <td>MALAY</td>\n",
       "      <td>...</td>\n",
       "      <td>0.000000</td>\n",
       "      <td>7.666667</td>\n",
       "      <td>0</td>\n",
       "      <td>0</td>\n",
       "      <td>0</td>\n",
       "      <td>0</td>\n",
       "      <td>1</td>\n",
       "      <td>1</td>\n",
       "      <td>0</td>\n",
       "      <td>0</td>\n",
       "    </tr>\n",
       "  </tbody>\n",
       "</table>\n",
       "<p>5 rows × 98 columns</p>\n",
       "</div>"
      ],
      "text/plain": [
       "   SUBSCRIBER_ARRANGEMENT_ID DATA_DAY NAME_PREPAID_BRAND2 DEVICE_OS_TYPE2  \\\n",
       "0                   65448788  00:00.0                  X2         ANDROID   \n",
       "1                   66158847  00:00.0          LEGACYXPAX         UNKNOWN   \n",
       "2                   66281977  00:00.0          LEGACYXPAX         ANDROID   \n",
       "3                   66523177  00:00.0                  X2         ANDROID   \n",
       "4                   68730634  00:00.0                  X2         ANDROID   \n",
       "\n",
       "  NETWORK_BANDS  DEVICE_TYPE  GENDER  AGE2 TOP_IDD_COUNTRY   RACE   ...    \\\n",
       "0            3G  SMART PHONE    MALE    24         UNKNOWN  MALAY   ...     \n",
       "1       NO DATA  BASIC PHONE  FEMALE    41         UNKNOWN  MALAY   ...     \n",
       "2            3G  SMART PHONE  FEMALE    67         UNKNOWN  MALAY   ...     \n",
       "3            3G  SMART PHONE  FEMALE    42         UNKNOWN  MALAY   ...     \n",
       "4            3G  SMART PHONE    MALE    36         UNKNOWN  MALAY   ...     \n",
       "\n",
       "   SWX_DATA   SWX_IDD MI_T1 MI_T2 MI_T3 MI_T4  MI_T5  MI_5MONTH  MI_4MONTH  \\\n",
       "0  6.666667  2.333333     0     0     0     1      0          1          1   \n",
       "1  0.000000  7.000000     0     0     0     1      0          1          1   \n",
       "2  0.000000  4.000000     0     0     0     1      0          1          1   \n",
       "3  0.000000  3.333333     0     0     0     0      1          1          0   \n",
       "4  0.000000  7.666667     0     0     0     0      1          1          0   \n",
       "\n",
       "   MI_TAG  \n",
       "0       1  \n",
       "1       1  \n",
       "2       1  \n",
       "3       0  \n",
       "4       0  \n",
       "\n",
       "[5 rows x 98 columns]"
      ]
     },
     "execution_count": 5,
     "metadata": {},
     "output_type": "execute_result"
    }
   ],
   "source": [
    "%matplotlib inline \n",
    "import matplotlib.pyplot as plt\n",
    "import seaborn as sns; sns.set()  \n",
    "import numpy as np\n",
    "import pandas as pd\n",
    "from IPython.display import display \n",
    "\n",
    "#Data Load\n",
    "df = pd.read_csv('../data/project/OFW_MI_CSELL_MODEL_BASE.csv')\n",
    "df.head()"
   ]
  },
  {
   "cell_type": "code",
   "execution_count": 6,
   "metadata": {
    "slideshow": {
     "slide_type": "subslide"
    }
   },
   "outputs": [
    {
     "data": {
      "text/plain": [
       "0    168765\n",
       "1      9391\n",
       "Name: MI_TAG, dtype: int64"
      ]
     },
     "execution_count": 6,
     "metadata": {},
     "output_type": "execute_result"
    }
   ],
   "source": [
    "### Drop Non-related Columns\n",
    "df=df.iloc[:,16:]\n",
    "\n",
    "### Count Check\n",
    "df[\"MI_TAG\"].value_counts()"
   ]
  },
  {
   "cell_type": "markdown",
   "metadata": {
    "slideshow": {
     "slide_type": "slide"
    }
   },
   "source": [
    "### Impute / Replace Missing values\n",
    "- To check on missing values by showing columns that have missing values"
   ]
  },
  {
   "cell_type": "code",
   "execution_count": 7,
   "metadata": {
    "slideshow": {
     "slide_type": "subslide"
    }
   },
   "outputs": [
    {
     "data": {
      "text/plain": [
       "Index([], dtype='object')"
      ]
     },
     "execution_count": 7,
     "metadata": {},
     "output_type": "execute_result"
    }
   ],
   "source": [
    "df.columns[df.isnull().sum() > 0]\n",
    "\n",
    "### There is no missing value"
   ]
  },
  {
   "cell_type": "markdown",
   "metadata": {
    "slideshow": {
     "slide_type": "slide"
    }
   },
   "source": [
    "## Data Preprocessing"
   ]
  },
  {
   "cell_type": "markdown",
   "metadata": {
    "slideshow": {
     "slide_type": "subslide"
    }
   },
   "source": [
    "### Train Test Split \n",
    "- Splitting the data into 70% training and 30% test subsets"
   ]
  },
  {
   "cell_type": "code",
   "execution_count": 8,
   "metadata": {
    "slideshow": {
     "slide_type": "subslide"
    }
   },
   "outputs": [
    {
     "name": "stdout",
     "output_type": "stream",
     "text": [
      "(124709, 74)\n",
      "(53447, 74)\n"
     ]
    }
   ],
   "source": [
    "from sklearn.model_selection import train_test_split\n",
    "\n",
    "X = df.drop(['MI_T1','MI_T1','MI_T2','MI_T3','MI_T4','MI_T5','MI_5MONTH','MI_4MONTH','MI_TAG'], axis=1)\n",
    "y = df['MI_TAG']\n",
    "\n",
    "X_train, X_test, y_train, y_test = train_test_split(X, y, test_size = 0.3, random_state=0)\n",
    "\n",
    "\n",
    "print(X_train.shape)\n",
    "print(X_test.shape)"
   ]
  },
  {
   "cell_type": "markdown",
   "metadata": {
    "slideshow": {
     "slide_type": "slide"
    }
   },
   "source": [
    "### Resolving Low Variance\n",
    "- remove columns with 80% similar data (e.g. 80% of the columns are 0)"
   ]
  },
  {
   "cell_type": "code",
   "execution_count": 9,
   "metadata": {
    "slideshow": {
     "slide_type": "subslide"
    }
   },
   "outputs": [
    {
     "data": {
      "text/plain": [
       "(124709, 73)"
      ]
     },
     "execution_count": 9,
     "metadata": {},
     "output_type": "execute_result"
    }
   ],
   "source": [
    "from sklearn.feature_selection import VarianceThreshold\n",
    "\n",
    "selector_variance = VarianceThreshold(.8*(1-.8))\n",
    "selector_variance.fit(X_train)\n",
    "\n",
    "attribs_variant = list(X_train.columns[selector_variance.get_support()])\n",
    "\n",
    "X_train = X_train[attribs_variant]\n",
    "\n",
    "X_train.shape"
   ]
  },
  {
   "cell_type": "markdown",
   "metadata": {
    "slideshow": {
     "slide_type": "slide"
    }
   },
   "source": [
    "### Resolving Multicollinearity "
   ]
  },
  {
   "cell_type": "code",
   "execution_count": 10,
   "metadata": {
    "slideshow": {
     "slide_type": "subslide"
    }
   },
   "outputs": [
    {
     "name": "stderr",
     "output_type": "stream",
     "text": [
      "C:\\Users\\09607\\AppData\\Local\\Continuum\\Anaconda3\\lib\\site-packages\\statsmodels\\stats\\outliers_influence.py:167: RuntimeWarning: divide by zero encountered in double_scalars\n",
      "  vif = 1. / (1. - r_squared_i)\n"
     ]
    }
   ],
   "source": [
    "### 1.find correlation between features\n",
    "X_train_corr = X_train.corr(method='spearman')\n",
    "\n",
    "### 2. find variance inflation factor of features\n",
    "from statsmodels.stats.outliers_influence import variance_inflation_factor\n",
    "def cal_vif(data):\n",
    "    vifs = pd.Series()\n",
    "    for i, attrib in enumerate(data.columns):\n",
    "        vif = variance_inflation_factor(data.values, i)\n",
    "        vifs[attrib] = vif\n",
    "    return vifs\n",
    "\n",
    "X_train_vif = cal_vif(X_train)"
   ]
  },
  {
   "cell_type": "code",
   "execution_count": 11,
   "metadata": {
    "collapsed": true,
    "slideshow": {
     "slide_type": "subslide"
    }
   },
   "outputs": [],
   "source": [
    "def get_high_correlated_features(threshold_corr, threshold_vif, data, data_corr, data_vif):\n",
    "    col_corr = set()\n",
    "    for i in range(data_corr.shape[0]):\n",
    "        for j in range(i):\n",
    "            if data_corr.iloc[i,j] >= threshold_corr:\n",
    "                feature_i = data.columns[i]\n",
    "                feature_j = data.columns[j]\n",
    "                print(\"{}.{} against {}.{}\".format(i,feature_i,j,feature_j))\n",
    "                vif_i = data_vif.iloc[i]\n",
    "                vif_j = data_vif.iloc[j]\n",
    "                if np.isinf(vif_i) and np.isinf(vif_j):\n",
    "                    col_corr.add(feature_i)\n",
    "                    col_corr.add(feature_j)\n",
    "                    print('both vif are infinity')\n",
    "                elif vif_i>vif_j and vif_i>threshold_vif:\n",
    "                    col_corr.add(feature_i)\n",
    "                elif vif_j>vif_i and vif_j>threshold_vif:\n",
    "                    col_corr.add(feature_j)\n",
    "                else:\n",
    "                    print('both vif less than 10')\n",
    "    return col_corr"
   ]
  },
  {
   "cell_type": "code",
   "execution_count": 12,
   "metadata": {
    "slideshow": {
     "slide_type": "subslide"
    }
   },
   "outputs": [
    {
     "name": "stdout",
     "output_type": "stream",
     "text": [
      "3.MAX_CONSECUTIVE_ZERO_DAY against 0.DAYS_TO_NE\n",
      "both vif less than 10\n",
      "6.AMT_RELOAD against 4.ACTIVE_DAY_MTH\n",
      "7.NUM_RELOAD against 4.ACTIVE_DAY_MTH\n",
      "7.NUM_RELOAD against 6.AMT_RELOAD\n",
      "9.KB_PPU against 8.AMT_PPU\n",
      "11.AMT_OUT_CALL_ONNET against 10.AMT_OUT_CALL\n",
      "12.AMT_OUT_CALL_OFFNET against 10.AMT_OUT_CALL\n",
      "13.AMT_OUT_CALL_DOMESTIC against 10.AMT_OUT_CALL\n",
      "13.AMT_OUT_CALL_DOMESTIC against 11.AMT_OUT_CALL_ONNET\n",
      "13.AMT_OUT_CALL_DOMESTIC against 12.AMT_OUT_CALL_OFFNET\n",
      "15.AMT_OUT_CALL_IDD against 10.AMT_OUT_CALL\n",
      "15.AMT_OUT_CALL_IDD against 12.AMT_OUT_CALL_OFFNET\n",
      "17.AMT_OUT_SMS_ONNET against 16.AMT_OUT_SMS\n",
      "18.AMT_OUT_SMS_OFFNET against 16.AMT_OUT_SMS\n",
      "18.AMT_OUT_SMS_OFFNET against 17.AMT_OUT_SMS_ONNET\n",
      "19.AMT_OUT_SMS_INTL against 16.AMT_OUT_SMS\n",
      "19.AMT_OUT_SMS_INTL against 18.AMT_OUT_SMS_OFFNET\n",
      "30.MOU_OUT_CALL_ONNET against 11.AMT_OUT_CALL_ONNET\n",
      "30.MOU_OUT_CALL_ONNET against 17.AMT_OUT_SMS_ONNET\n",
      "31.MOU_OUT_CALL_OFFNET against 4.ACTIVE_DAY_MTH\n",
      "31.MOU_OUT_CALL_OFFNET against 6.AMT_RELOAD\n",
      "31.MOU_OUT_CALL_OFFNET against 7.NUM_RELOAD\n",
      "32.MOU_OUT_CALL_IDD against 6.AMT_RELOAD\n",
      "32.MOU_OUT_CALL_IDD against 31.MOU_OUT_CALL_OFFNET\n",
      "33.MOU_OUT_CALL_DOMESTIC against 6.AMT_RELOAD\n",
      "33.MOU_OUT_CALL_DOMESTIC against 30.MOU_OUT_CALL_ONNET\n",
      "34.MOU_OUT_CALL_FIXED against 14.AMT_OUT_CALL_FIXED\n",
      "both vif less than 10\n",
      "36.MOU_OUT_CALL_IDD_COUNTRY1 against 20.AMT_OUT_CALL_IDD_COUNTRY1\n",
      "37.MOU_OUT_CALL_IDD_COUNTRY2 against 21.AMT_OUT_CALL_IDD_COUNTRY2\n",
      "38.MOU_OUT_CALL_IDD_COUNTRY3 against 22.AMT_OUT_CALL_IDD_COUNTRY3\n",
      "39.MOU_OUT_CALL_IDD_COUNTRY4 against 23.AMT_OUT_CALL_IDD_COUNTRY4\n",
      "40.MOU_OUT_CALL_IDD_COUNTRY5 against 24.AMT_OUT_CALL_IDD_COUNTRY5\n",
      "41.MOU_OUT_CALL_IDD_COUNTRY6 against 25.AMT_OUT_CALL_IDD_COUNTRY6\n",
      "both vif less than 10\n",
      "42.MOU_OUT_CALL_IDD_COUNTRY7 against 26.AMT_OUT_CALL_IDD_COUNTRY7\n",
      "43.MOU_OUT_CALL_IDD_COUNTRY8 against 27.AMT_OUT_CALL_IDD_COUNTRY8\n",
      "44.MOU_OUT_CALL_IDD_COUNTRY9 against 28.AMT_OUT_CALL_IDD_COUNTRY9\n",
      "45.MOU_OUT_CALL_IDD_COUNTRY10 against 29.AMT_OUT_CALL_IDD_COUNTRY10\n",
      "46.NUM_OUT_CALL_ONNET against 11.AMT_OUT_CALL_ONNET\n",
      "46.NUM_OUT_CALL_ONNET against 17.AMT_OUT_SMS_ONNET\n",
      "46.NUM_OUT_CALL_ONNET against 30.MOU_OUT_CALL_ONNET\n",
      "46.NUM_OUT_CALL_ONNET against 33.MOU_OUT_CALL_DOMESTIC\n",
      "47.NUM_OUT_CALL_OFFNET against 4.ACTIVE_DAY_MTH\n",
      "47.NUM_OUT_CALL_OFFNET against 6.AMT_RELOAD\n",
      "47.NUM_OUT_CALL_OFFNET against 7.NUM_RELOAD\n",
      "47.NUM_OUT_CALL_OFFNET against 31.MOU_OUT_CALL_OFFNET\n",
      "47.NUM_OUT_CALL_OFFNET against 32.MOU_OUT_CALL_IDD\n",
      "47.NUM_OUT_CALL_OFFNET against 33.MOU_OUT_CALL_DOMESTIC\n",
      "48.NUM_OUT_CALL_DOMESTIC against 6.AMT_RELOAD\n",
      "48.NUM_OUT_CALL_DOMESTIC against 11.AMT_OUT_CALL_ONNET\n",
      "48.NUM_OUT_CALL_DOMESTIC against 13.AMT_OUT_CALL_DOMESTIC\n",
      "48.NUM_OUT_CALL_DOMESTIC against 30.MOU_OUT_CALL_ONNET\n",
      "48.NUM_OUT_CALL_DOMESTIC against 33.MOU_OUT_CALL_DOMESTIC\n",
      "48.NUM_OUT_CALL_DOMESTIC against 46.NUM_OUT_CALL_ONNET\n",
      "48.NUM_OUT_CALL_DOMESTIC against 47.NUM_OUT_CALL_OFFNET\n",
      "49.NUM_OUT_CALL_FIXED against 14.AMT_OUT_CALL_FIXED\n",
      "both vif less than 10\n",
      "49.NUM_OUT_CALL_FIXED against 34.MOU_OUT_CALL_FIXED\n",
      "both vif less than 10\n",
      "50.NUM_OUT_CALL_IDD against 4.ACTIVE_DAY_MTH\n",
      "50.NUM_OUT_CALL_IDD against 6.AMT_RELOAD\n",
      "50.NUM_OUT_CALL_IDD against 7.NUM_RELOAD\n",
      "50.NUM_OUT_CALL_IDD against 31.MOU_OUT_CALL_OFFNET\n",
      "50.NUM_OUT_CALL_IDD against 32.MOU_OUT_CALL_IDD\n",
      "50.NUM_OUT_CALL_IDD against 47.NUM_OUT_CALL_OFFNET\n",
      "51.NUM_OUT_CALL_FREE against 35.MOU_OUT_CALL_FREE\n",
      "both vif less than 10\n",
      "52.NUM_OUT_SMS against 16.AMT_OUT_SMS\n",
      "52.NUM_OUT_SMS against 17.AMT_OUT_SMS_ONNET\n",
      "52.NUM_OUT_SMS against 18.AMT_OUT_SMS_OFFNET\n",
      "52.NUM_OUT_SMS against 19.AMT_OUT_SMS_INTL\n",
      "53.NUM_OUT_SMS_ONNET against 16.AMT_OUT_SMS\n",
      "53.NUM_OUT_SMS_ONNET against 17.AMT_OUT_SMS_ONNET\n",
      "53.NUM_OUT_SMS_ONNET against 18.AMT_OUT_SMS_OFFNET\n",
      "53.NUM_OUT_SMS_ONNET against 30.MOU_OUT_CALL_ONNET\n",
      "53.NUM_OUT_SMS_ONNET against 46.NUM_OUT_CALL_ONNET\n",
      "53.NUM_OUT_SMS_ONNET against 52.NUM_OUT_SMS\n",
      "both vif less than 10\n",
      "54.NUM_OUT_SMS_OFFNET against 16.AMT_OUT_SMS\n",
      "54.NUM_OUT_SMS_OFFNET against 17.AMT_OUT_SMS_ONNET\n",
      "54.NUM_OUT_SMS_OFFNET against 18.AMT_OUT_SMS_OFFNET\n",
      "54.NUM_OUT_SMS_OFFNET against 19.AMT_OUT_SMS_INTL\n",
      "54.NUM_OUT_SMS_OFFNET against 52.NUM_OUT_SMS\n",
      "54.NUM_OUT_SMS_OFFNET against 53.NUM_OUT_SMS_ONNET\n",
      "55.NUM_OUT_SMS_INTL against 16.AMT_OUT_SMS\n",
      "55.NUM_OUT_SMS_INTL against 18.AMT_OUT_SMS_OFFNET\n",
      "55.NUM_OUT_SMS_INTL against 19.AMT_OUT_SMS_INTL\n",
      "55.NUM_OUT_SMS_INTL against 52.NUM_OUT_SMS\n",
      "55.NUM_OUT_SMS_INTL against 54.NUM_OUT_SMS_OFFNET\n",
      "58.NUM_ATS_RCV against 56.AMT_ATS_RCV\n",
      "both vif less than 10\n",
      "59.NUM_ATS_SEND against 57.AMT_ATS_SEND\n",
      "both vif less than 10\n",
      "60.NUM_OUT_CALL_DROP against 6.AMT_RELOAD\n",
      "60.NUM_OUT_CALL_DROP against 7.NUM_RELOAD\n",
      "60.NUM_OUT_CALL_DROP against 31.MOU_OUT_CALL_OFFNET\n",
      "60.NUM_OUT_CALL_DROP against 32.MOU_OUT_CALL_IDD\n",
      "60.NUM_OUT_CALL_DROP against 47.NUM_OUT_CALL_OFFNET\n",
      "60.NUM_OUT_CALL_DROP against 50.NUM_OUT_CALL_IDD\n",
      "61.AMT_REVENUE against 4.ACTIVE_DAY_MTH\n",
      "61.AMT_REVENUE against 6.AMT_RELOAD\n",
      "61.AMT_REVENUE against 7.NUM_RELOAD\n",
      "61.AMT_REVENUE against 31.MOU_OUT_CALL_OFFNET\n",
      "61.AMT_REVENUE against 32.MOU_OUT_CALL_IDD\n",
      "61.AMT_REVENUE against 33.MOU_OUT_CALL_DOMESTIC\n",
      "61.AMT_REVENUE against 47.NUM_OUT_CALL_OFFNET\n",
      "61.AMT_REVENUE against 48.NUM_OUT_CALL_DOMESTIC\n",
      "61.AMT_REVENUE against 50.NUM_OUT_CALL_IDD\n",
      "61.AMT_REVENUE against 60.NUM_OUT_CALL_DROP\n",
      "62.RECURRING_REVENUE against 31.MOU_OUT_CALL_OFFNET\n",
      "62.RECURRING_REVENUE against 32.MOU_OUT_CALL_IDD\n",
      "62.RECURRING_REVENUE against 47.NUM_OUT_CALL_OFFNET\n",
      "62.RECURRING_REVENUE against 50.NUM_OUT_CALL_IDD\n",
      "64.USAGE_REVENUE against 10.AMT_OUT_CALL\n",
      "64.USAGE_REVENUE against 11.AMT_OUT_CALL_ONNET\n",
      "64.USAGE_REVENUE against 12.AMT_OUT_CALL_OFFNET\n",
      "64.USAGE_REVENUE against 13.AMT_OUT_CALL_DOMESTIC\n",
      "64.USAGE_REVENUE against 15.AMT_OUT_CALL_IDD\n",
      "65.DATA_REVENUE against 8.AMT_PPU\n",
      "65.DATA_REVENUE against 9.KB_PPU\n",
      "66.MOU_OUT_CALL against 4.ACTIVE_DAY_MTH\n",
      "66.MOU_OUT_CALL against 6.AMT_RELOAD\n",
      "66.MOU_OUT_CALL against 7.NUM_RELOAD\n",
      "66.MOU_OUT_CALL against 31.MOU_OUT_CALL_OFFNET\n",
      "66.MOU_OUT_CALL against 32.MOU_OUT_CALL_IDD\n",
      "66.MOU_OUT_CALL against 47.NUM_OUT_CALL_OFFNET\n",
      "66.MOU_OUT_CALL against 50.NUM_OUT_CALL_IDD\n",
      "66.MOU_OUT_CALL against 60.NUM_OUT_CALL_DROP\n",
      "66.MOU_OUT_CALL against 61.AMT_REVENUE\n",
      "66.MOU_OUT_CALL against 62.RECURRING_REVENUE\n",
      "67.NUM_OUT_CALL against 4.ACTIVE_DAY_MTH\n",
      "67.NUM_OUT_CALL against 6.AMT_RELOAD\n",
      "67.NUM_OUT_CALL against 7.NUM_RELOAD\n",
      "67.NUM_OUT_CALL against 30.MOU_OUT_CALL_ONNET\n",
      "67.NUM_OUT_CALL against 31.MOU_OUT_CALL_OFFNET\n",
      "67.NUM_OUT_CALL against 32.MOU_OUT_CALL_IDD\n",
      "67.NUM_OUT_CALL against 33.MOU_OUT_CALL_DOMESTIC\n",
      "67.NUM_OUT_CALL against 46.NUM_OUT_CALL_ONNET\n",
      "67.NUM_OUT_CALL against 47.NUM_OUT_CALL_OFFNET\n",
      "67.NUM_OUT_CALL against 48.NUM_OUT_CALL_DOMESTIC\n",
      "67.NUM_OUT_CALL against 50.NUM_OUT_CALL_IDD\n",
      "both vif are infinity\n",
      "67.NUM_OUT_CALL against 60.NUM_OUT_CALL_DROP\n",
      "67.NUM_OUT_CALL against 61.AMT_REVENUE\n",
      "67.NUM_OUT_CALL against 66.MOU_OUT_CALL\n",
      "69.SWX_VOICE against 4.ACTIVE_DAY_MTH\n",
      "69.SWX_VOICE against 6.AMT_RELOAD\n",
      "69.SWX_VOICE against 7.NUM_RELOAD\n",
      "69.SWX_VOICE against 30.MOU_OUT_CALL_ONNET\n",
      "69.SWX_VOICE against 31.MOU_OUT_CALL_OFFNET\n",
      "69.SWX_VOICE against 32.MOU_OUT_CALL_IDD\n",
      "69.SWX_VOICE against 33.MOU_OUT_CALL_DOMESTIC\n",
      "69.SWX_VOICE against 46.NUM_OUT_CALL_ONNET\n",
      "69.SWX_VOICE against 47.NUM_OUT_CALL_OFFNET\n",
      "69.SWX_VOICE against 48.NUM_OUT_CALL_DOMESTIC\n",
      "69.SWX_VOICE against 50.NUM_OUT_CALL_IDD\n",
      "69.SWX_VOICE against 61.AMT_REVENUE\n",
      "69.SWX_VOICE against 66.MOU_OUT_CALL\n",
      "69.SWX_VOICE against 67.NUM_OUT_CALL\n",
      "70.SWX_SMS against 16.AMT_OUT_SMS\n",
      "70.SWX_SMS against 17.AMT_OUT_SMS_ONNET\n",
      "70.SWX_SMS against 18.AMT_OUT_SMS_OFFNET\n",
      "70.SWX_SMS against 19.AMT_OUT_SMS_INTL\n",
      "70.SWX_SMS against 52.NUM_OUT_SMS\n",
      "70.SWX_SMS against 53.NUM_OUT_SMS_ONNET\n",
      "70.SWX_SMS against 54.NUM_OUT_SMS_OFFNET\n",
      "70.SWX_SMS against 55.NUM_OUT_SMS_INTL\n",
      "71.SWX_DATA against 4.ACTIVE_DAY_MTH\n",
      "71.SWX_DATA against 68.DATA_VOLUME\n",
      "both vif less than 10\n",
      "72.SWX_IDD against 4.ACTIVE_DAY_MTH\n",
      "72.SWX_IDD against 6.AMT_RELOAD\n",
      "72.SWX_IDD against 7.NUM_RELOAD\n",
      "72.SWX_IDD against 31.MOU_OUT_CALL_OFFNET\n",
      "72.SWX_IDD against 32.MOU_OUT_CALL_IDD\n",
      "72.SWX_IDD against 47.NUM_OUT_CALL_OFFNET\n",
      "72.SWX_IDD against 50.NUM_OUT_CALL_IDD\n",
      "72.SWX_IDD against 61.AMT_REVENUE\n",
      "72.SWX_IDD against 62.RECURRING_REVENUE\n",
      "72.SWX_IDD against 66.MOU_OUT_CALL\n",
      "72.SWX_IDD against 67.NUM_OUT_CALL\n",
      "72.SWX_IDD against 69.SWX_VOICE\n"
     ]
    }
   ],
   "source": [
    "attribs_num_correlated = get_high_correlated_features(0.5, 10, X_train, X_train_corr, X_train_vif)"
   ]
  },
  {
   "cell_type": "code",
   "execution_count": 13,
   "metadata": {
    "slideshow": {
     "slide_type": "subslide"
    }
   },
   "outputs": [
    {
     "data": {
      "text/plain": [
       "['DAYS_TO_NE',\n",
       " 'CREDIT_BALANCE',\n",
       " 'CREDIT_BEF_RELOAD',\n",
       " 'MAX_CONSECUTIVE_ZERO_DAY',\n",
       " 'AMT_LAST_RELOAD',\n",
       " 'KB_PPU',\n",
       " 'AMT_OUT_CALL_DOMESTIC',\n",
       " 'AMT_OUT_CALL_FIXED',\n",
       " 'AMT_OUT_CALL_IDD',\n",
       " 'AMT_OUT_CALL_IDD_COUNTRY1',\n",
       " 'AMT_OUT_CALL_IDD_COUNTRY2',\n",
       " 'AMT_OUT_CALL_IDD_COUNTRY3',\n",
       " 'AMT_OUT_CALL_IDD_COUNTRY4',\n",
       " 'AMT_OUT_CALL_IDD_COUNTRY5',\n",
       " 'AMT_OUT_CALL_IDD_COUNTRY6',\n",
       " 'AMT_OUT_CALL_IDD_COUNTRY7',\n",
       " 'AMT_OUT_CALL_IDD_COUNTRY8',\n",
       " 'AMT_OUT_CALL_IDD_COUNTRY9',\n",
       " 'AMT_OUT_CALL_IDD_COUNTRY10',\n",
       " 'MOU_OUT_CALL_FIXED',\n",
       " 'MOU_OUT_CALL_FREE',\n",
       " 'MOU_OUT_CALL_IDD_COUNTRY6',\n",
       " 'NUM_OUT_CALL_FIXED',\n",
       " 'NUM_OUT_CALL_FREE',\n",
       " 'AMT_ATS_RCV',\n",
       " 'AMT_ATS_SEND',\n",
       " 'NUM_ATS_RCV',\n",
       " 'NUM_ATS_SEND',\n",
       " 'NUM_OUT_CALL_DROP',\n",
       " 'NON_RECURRING_REVENUE',\n",
       " 'DATA_VOLUME',\n",
       " 'SWX_SMS',\n",
       " 'SWX_DATA']"
      ]
     },
     "execution_count": 13,
     "metadata": {},
     "output_type": "execute_result"
    }
   ],
   "source": [
    "attribs_num_selected = list(X_train.drop(attribs_num_correlated, axis=1).columns)\n",
    "attribs_num_selected"
   ]
  },
  {
   "cell_type": "markdown",
   "metadata": {
    "slideshow": {
     "slide_type": "slide"
    }
   },
   "source": [
    "### Scaling for Outlier Treatment"
   ]
  },
  {
   "cell_type": "code",
   "execution_count": 14,
   "metadata": {
    "collapsed": true,
    "slideshow": {
     "slide_type": "subslide"
    }
   },
   "outputs": [],
   "source": [
    "from sklearn.preprocessing import StandardScaler,Normalizer,QuantileTransformer,MinMaxScaler\n",
    "\n",
    "X_train_scaled = pd.DataFrame(StandardScaler().fit_transform(X_train[attribs_num_selected]),\n",
    "                                  columns=attribs_num_selected)"
   ]
  },
  {
   "cell_type": "code",
   "execution_count": 15,
   "metadata": {
    "collapsed": true,
    "slideshow": {
     "slide_type": "subslide"
    }
   },
   "outputs": [],
   "source": [
    "from sklearn.ensemble import IsolationForest\n",
    "\n",
    "def resolve_outlier(data):\n",
    "    n_samples = 200\n",
    "    outliers_fraction = 0.01\n",
    "    outlier_detection = pd.DataFrame()\n",
    "    outlier_clf = IsolationForest(max_samples=n_samples,contamination=outliers_fraction,random_state=42)\n",
    "    outlier_clf.fit(data)\n",
    "    outlier_detection['IsolationForest'] = outlier_clf.predict(data)\n",
    "    return outlier_detection"
   ]
  },
  {
   "cell_type": "code",
   "execution_count": 18,
   "metadata": {
    "slideshow": {
     "slide_type": "subslide"
    }
   },
   "outputs": [
    {
     "data": {
      "text/plain": [
       "(123461, 33)"
      ]
     },
     "execution_count": 18,
     "metadata": {},
     "output_type": "execute_result"
    }
   ],
   "source": [
    "outlier_detection = resolve_outlier(X_train_scaled)\n",
    "\n",
    "X_train_xoutlier = X_train.iloc[outlier_detection[outlier_detection['IsolationForest'] == 1].index][attribs_num_selected]\n",
    "y_train_xoutlier = y_train.iloc[outlier_detection[outlier_detection['IsolationForest'] == 1].index]\n",
    "\n",
    "X_train_xoutlier.shape"
   ]
  },
  {
   "cell_type": "markdown",
   "metadata": {
    "slideshow": {
     "slide_type": "slide"
    }
   },
   "source": [
    "### Downsampling\n",
    "- The data is imbalanced, perform downsampling to balance the data. "
   ]
  },
  {
   "cell_type": "code",
   "execution_count": 19,
   "metadata": {
    "slideshow": {
     "slide_type": "subslide"
    }
   },
   "outputs": [
    {
     "name": "stdout",
     "output_type": "stream",
     "text": [
      "Y train: (array([0, 1], dtype=int64), array([6571, 6571], dtype=int64))\n"
     ]
    }
   ],
   "source": [
    "from imblearn.under_sampling import RandomUnderSampler\n",
    "rus = RandomUnderSampler(return_indices=True, random_state=123)\n",
    "X_train, y_train, idx_resampled = rus.fit_sample(X_train_xoutlier, y_train_xoutlier)\n",
    "print('Y train:', np.unique(y_train,return_counts=True))"
   ]
  },
  {
   "cell_type": "markdown",
   "metadata": {
    "slideshow": {
     "slide_type": "slide"
    }
   },
   "source": [
    "### Scale Data"
   ]
  },
  {
   "cell_type": "code",
   "execution_count": 20,
   "metadata": {
    "slideshow": {
     "slide_type": "subslide"
    }
   },
   "outputs": [
    {
     "data": {
      "text/html": [
       "<div>\n",
       "<style>\n",
       "    .dataframe thead tr:only-child th {\n",
       "        text-align: right;\n",
       "    }\n",
       "\n",
       "    .dataframe thead th {\n",
       "        text-align: left;\n",
       "    }\n",
       "\n",
       "    .dataframe tbody tr th {\n",
       "        vertical-align: top;\n",
       "    }\n",
       "</style>\n",
       "<table border=\"1\" class=\"dataframe\">\n",
       "  <thead>\n",
       "    <tr style=\"text-align: right;\">\n",
       "      <th></th>\n",
       "      <th>DAYS_TO_NE</th>\n",
       "      <th>CREDIT_BALANCE</th>\n",
       "      <th>CREDIT_BEF_RELOAD</th>\n",
       "      <th>MAX_CONSECUTIVE_ZERO_DAY</th>\n",
       "      <th>AMT_LAST_RELOAD</th>\n",
       "      <th>KB_PPU</th>\n",
       "      <th>AMT_OUT_CALL_DOMESTIC</th>\n",
       "      <th>AMT_OUT_CALL_FIXED</th>\n",
       "      <th>AMT_OUT_CALL_IDD</th>\n",
       "      <th>AMT_OUT_CALL_IDD_COUNTRY1</th>\n",
       "      <th>...</th>\n",
       "      <th>NUM_OUT_CALL_FREE</th>\n",
       "      <th>AMT_ATS_RCV</th>\n",
       "      <th>AMT_ATS_SEND</th>\n",
       "      <th>NUM_ATS_RCV</th>\n",
       "      <th>NUM_ATS_SEND</th>\n",
       "      <th>NUM_OUT_CALL_DROP</th>\n",
       "      <th>NON_RECURRING_REVENUE</th>\n",
       "      <th>DATA_VOLUME</th>\n",
       "      <th>SWX_SMS</th>\n",
       "      <th>SWX_DATA</th>\n",
       "    </tr>\n",
       "  </thead>\n",
       "  <tbody>\n",
       "    <tr>\n",
       "      <th>0</th>\n",
       "      <td>0.058216</td>\n",
       "      <td>-0.344942</td>\n",
       "      <td>-0.171300</td>\n",
       "      <td>-0.901898</td>\n",
       "      <td>-0.192603</td>\n",
       "      <td>-0.02693</td>\n",
       "      <td>-0.456367</td>\n",
       "      <td>-0.171210</td>\n",
       "      <td>-0.710245</td>\n",
       "      <td>-0.382711</td>\n",
       "      <td>...</td>\n",
       "      <td>-0.032652</td>\n",
       "      <td>-0.155221</td>\n",
       "      <td>-0.150355</td>\n",
       "      <td>-0.160184</td>\n",
       "      <td>-0.158563</td>\n",
       "      <td>0.060110</td>\n",
       "      <td>0.201395</td>\n",
       "      <td>0.158193</td>\n",
       "      <td>-0.283389</td>\n",
       "      <td>0.242374</td>\n",
       "    </tr>\n",
       "    <tr>\n",
       "      <th>1</th>\n",
       "      <td>0.116160</td>\n",
       "      <td>-0.202774</td>\n",
       "      <td>-0.180419</td>\n",
       "      <td>-0.191116</td>\n",
       "      <td>-0.406931</td>\n",
       "      <td>-0.02693</td>\n",
       "      <td>0.285301</td>\n",
       "      <td>-0.139735</td>\n",
       "      <td>-0.372102</td>\n",
       "      <td>0.056792</td>\n",
       "      <td>...</td>\n",
       "      <td>0.722833</td>\n",
       "      <td>-0.155221</td>\n",
       "      <td>-0.150355</td>\n",
       "      <td>-0.160184</td>\n",
       "      <td>-0.158563</td>\n",
       "      <td>-0.594555</td>\n",
       "      <td>-0.414787</td>\n",
       "      <td>-0.554019</td>\n",
       "      <td>-0.149980</td>\n",
       "      <td>-0.612156</td>\n",
       "    </tr>\n",
       "    <tr>\n",
       "      <th>2</th>\n",
       "      <td>0.046627</td>\n",
       "      <td>-0.190535</td>\n",
       "      <td>-0.180419</td>\n",
       "      <td>-0.901898</td>\n",
       "      <td>-0.621258</td>\n",
       "      <td>-0.02693</td>\n",
       "      <td>-0.266570</td>\n",
       "      <td>-0.171210</td>\n",
       "      <td>2.191088</td>\n",
       "      <td>-0.467710</td>\n",
       "      <td>...</td>\n",
       "      <td>-0.032652</td>\n",
       "      <td>-0.155221</td>\n",
       "      <td>-0.150355</td>\n",
       "      <td>-0.160184</td>\n",
       "      <td>-0.158563</td>\n",
       "      <td>0.205591</td>\n",
       "      <td>-0.089580</td>\n",
       "      <td>-0.532739</td>\n",
       "      <td>-0.616910</td>\n",
       "      <td>0.876379</td>\n",
       "    </tr>\n",
       "    <tr>\n",
       "      <th>3</th>\n",
       "      <td>0.182795</td>\n",
       "      <td>-0.116979</td>\n",
       "      <td>-0.180419</td>\n",
       "      <td>1.052754</td>\n",
       "      <td>-0.621258</td>\n",
       "      <td>-0.02693</td>\n",
       "      <td>-0.101755</td>\n",
       "      <td>-0.171210</td>\n",
       "      <td>-0.492888</td>\n",
       "      <td>-0.467710</td>\n",
       "      <td>...</td>\n",
       "      <td>-0.032652</td>\n",
       "      <td>-0.155221</td>\n",
       "      <td>-0.150355</td>\n",
       "      <td>-0.160184</td>\n",
       "      <td>-0.158563</td>\n",
       "      <td>-0.521814</td>\n",
       "      <td>-0.414787</td>\n",
       "      <td>-0.553456</td>\n",
       "      <td>-0.683614</td>\n",
       "      <td>-0.860245</td>\n",
       "    </tr>\n",
       "    <tr>\n",
       "      <th>4</th>\n",
       "      <td>0.101674</td>\n",
       "      <td>0.255624</td>\n",
       "      <td>-0.180419</td>\n",
       "      <td>-0.813050</td>\n",
       "      <td>-0.406931</td>\n",
       "      <td>-0.02693</td>\n",
       "      <td>-0.480700</td>\n",
       "      <td>-0.171210</td>\n",
       "      <td>0.689453</td>\n",
       "      <td>-0.467710</td>\n",
       "      <td>...</td>\n",
       "      <td>-0.032652</td>\n",
       "      <td>-0.155221</td>\n",
       "      <td>-0.150355</td>\n",
       "      <td>-0.160184</td>\n",
       "      <td>-0.158563</td>\n",
       "      <td>-0.449074</td>\n",
       "      <td>-0.414787</td>\n",
       "      <td>0.162865</td>\n",
       "      <td>-0.683614</td>\n",
       "      <td>1.400123</td>\n",
       "    </tr>\n",
       "  </tbody>\n",
       "</table>\n",
       "<p>5 rows × 33 columns</p>\n",
       "</div>"
      ],
      "text/plain": [
       "   DAYS_TO_NE  CREDIT_BALANCE  CREDIT_BEF_RELOAD  MAX_CONSECUTIVE_ZERO_DAY  \\\n",
       "0    0.058216       -0.344942          -0.171300                 -0.901898   \n",
       "1    0.116160       -0.202774          -0.180419                 -0.191116   \n",
       "2    0.046627       -0.190535          -0.180419                 -0.901898   \n",
       "3    0.182795       -0.116979          -0.180419                  1.052754   \n",
       "4    0.101674        0.255624          -0.180419                 -0.813050   \n",
       "\n",
       "   AMT_LAST_RELOAD   KB_PPU  AMT_OUT_CALL_DOMESTIC  AMT_OUT_CALL_FIXED  \\\n",
       "0        -0.192603 -0.02693              -0.456367           -0.171210   \n",
       "1        -0.406931 -0.02693               0.285301           -0.139735   \n",
       "2        -0.621258 -0.02693              -0.266570           -0.171210   \n",
       "3        -0.621258 -0.02693              -0.101755           -0.171210   \n",
       "4        -0.406931 -0.02693              -0.480700           -0.171210   \n",
       "\n",
       "   AMT_OUT_CALL_IDD  AMT_OUT_CALL_IDD_COUNTRY1    ...     NUM_OUT_CALL_FREE  \\\n",
       "0         -0.710245                  -0.382711    ...             -0.032652   \n",
       "1         -0.372102                   0.056792    ...              0.722833   \n",
       "2          2.191088                  -0.467710    ...             -0.032652   \n",
       "3         -0.492888                  -0.467710    ...             -0.032652   \n",
       "4          0.689453                  -0.467710    ...             -0.032652   \n",
       "\n",
       "   AMT_ATS_RCV  AMT_ATS_SEND  NUM_ATS_RCV  NUM_ATS_SEND  NUM_OUT_CALL_DROP  \\\n",
       "0    -0.155221     -0.150355    -0.160184     -0.158563           0.060110   \n",
       "1    -0.155221     -0.150355    -0.160184     -0.158563          -0.594555   \n",
       "2    -0.155221     -0.150355    -0.160184     -0.158563           0.205591   \n",
       "3    -0.155221     -0.150355    -0.160184     -0.158563          -0.521814   \n",
       "4    -0.155221     -0.150355    -0.160184     -0.158563          -0.449074   \n",
       "\n",
       "   NON_RECURRING_REVENUE  DATA_VOLUME   SWX_SMS  SWX_DATA  \n",
       "0               0.201395     0.158193 -0.283389  0.242374  \n",
       "1              -0.414787    -0.554019 -0.149980 -0.612156  \n",
       "2              -0.089580    -0.532739 -0.616910  0.876379  \n",
       "3              -0.414787    -0.553456 -0.683614 -0.860245  \n",
       "4              -0.414787     0.162865 -0.683614  1.400123  \n",
       "\n",
       "[5 rows x 33 columns]"
      ]
     },
     "execution_count": 20,
     "metadata": {},
     "output_type": "execute_result"
    }
   ],
   "source": [
    "scaler = StandardScaler()\n",
    "\n",
    "X_train= pd.DataFrame(scaler.fit_transform(X_train), columns = X_train_xoutlier.columns)\n",
    "\n",
    "X_test = pd.DataFrame(scaler.transform(X_test[attribs_num_selected]), columns = attribs_num_selected)\n",
    "X_test.head()"
   ]
  },
  {
   "cell_type": "markdown",
   "metadata": {
    "slideshow": {
     "slide_type": "slide"
    }
   },
   "source": [
    "## Model Training And Evaluation \n",
    "\n",
    "Data used for training and Validation\n",
    "- downsampling data \n",
    "\n",
    "Data splitting (default parameter):\n",
    "- 70% training\n",
    "- 30% testing\n",
    "\n",
    "Classifier:\n",
    "- Gaussian Naive Bayes\n",
    "- Logistic Regression\n",
    "- Random Forest\n",
    "\n",
    "Perform model evaluation using the following metrics:\n",
    "\n",
    "- Accuracy score\n",
    "- Confusion Matrix\n",
    "- Precision and Recall Scores\n",
    "- F1 score\n",
    "- ROC and AUC"
   ]
  },
  {
   "cell_type": "markdown",
   "metadata": {
    "slideshow": {
     "slide_type": "slide"
    }
   },
   "source": [
    "### Gaussian Naive Bayes"
   ]
  },
  {
   "cell_type": "code",
   "execution_count": 26,
   "metadata": {
    "slideshow": {
     "slide_type": "subslide"
    }
   },
   "outputs": [
    {
     "name": "stdout",
     "output_type": "stream",
     "text": [
      "Accuracy of NB classifier on training set: 0.592071222036\n",
      "Accuracy of NB classifier on test set: 0.642094037083\n",
      "MSE: 0.598252424079\n",
      "\n",
      "             precision    recall  f1-score   support\n",
      "\n",
      "          0       0.96      0.65      0.77     50688\n",
      "          1       0.08      0.53      0.13      2759\n",
      "\n",
      "avg / total       0.92      0.64      0.74     53447\n",
      "\n"
     ]
    },
    {
     "data": {
      "image/png": "[encoded data removed]",
      "text/plain": [
       "<Figure size 576x396 with 1 Axes>"
      ]
     },
     "metadata": {},
     "output_type": "display_data"
    },
    {
     "name": "stdout",
     "output_type": "stream",
     "text": [
      "ROC Curve\n",
      "AUROC Score: 0.598612951678\n"
     ]
    },
    {
     "data": {
      "image/png": "[encoded data removed]",
      "text/plain": [
       "<Figure size 576x396 with 1 Axes>"
      ]
     },
     "metadata": {},
     "output_type": "display_data"
    }
   ],
   "source": [
    "## Gaussian Naive Bayes\n",
    "from sklearn.naive_bayes import GaussianNB\n",
    "from sklearn.metrics import mean_squared_error\n",
    "from sklearn.metrics import confusion_matrix, classification_report\n",
    "nbclf = GaussianNB().fit(X_train, y_train)\n",
    "\n",
    "y_predict_nb = nbclf.predict(X_test)\n",
    "\n",
    "print('Accuracy of NB classifier on training set:', nbclf.score(X_train, y_train))\n",
    "print('Accuracy of NB classifier on test set:', nbclf.score(X_test, y_test))\n",
    "print('MSE:', mean_squared_error(y_test, y_predict_nb)**0.5)\n",
    "print('')\n",
    "\n",
    "print(classification_report(y_test, y_predict_nb))\n",
    "\n",
    "mat = confusion_matrix(y_test, y_predict_nb)\n",
    "sns.heatmap(mat.T, square=True, annot=True, fmt='d', cbar=False)\n",
    "\n",
    "plt.xlabel('true label')\n",
    "plt.ylabel('predicted label')\n",
    "plt.show();\n",
    "\n",
    "from sklearn.metrics import roc_auc_score\n",
    "\n",
    "predict_proba_y_nb = nbclf.predict_proba(X_test)[:,1]\n",
    "\n",
    "\n",
    "from sklearn.metrics import roc_curve, auc\n",
    "fpr, tpr, thresholds = roc_curve(y_test, predict_proba_y_nb, pos_label=1)\n",
    "auc_result = auc(fpr, tpr)\n",
    "print('ROC Curve')\n",
    "print('AUROC Score:',roc_auc_score(y_test, predict_proba_y_nb))\n",
    "plt.figure(1)\n",
    "plt.plot([0, 1], [0, 1], 'k--')\n",
    "plt.plot(fpr, tpr, label='area = {0:0.2f}'.format(auc_result))\n",
    "plt.xlabel('False positive rate')\n",
    "plt.ylabel('True positive rate')\n",
    "plt.title('ROC curve')\n",
    "plt.legend(loc='best')\n",
    "plt.show()"
   ]
  },
  {
   "cell_type": "code",
   "execution_count": 27,
   "metadata": {
    "slideshow": {
     "slide_type": "subslide"
    }
   },
   "outputs": [
    {
     "name": "stdout",
     "output_type": "stream",
     "text": [
      "PPV: 0.07608245286927698\n",
      "Prevelance: 0.051621232248769806\n",
      "Lift: 1.4738596805017206\n"
     ]
    }
   ],
   "source": [
    "PPV_NB = 1469/(1469+17839)\n",
    "\n",
    "Prevelance_NB= (1469+1290)/53447\n",
    "\n",
    "Lift_NB= PPV_NB/Prevelance_NB\n",
    "\n",
    "print('PPV:',PPV_NB)\n",
    "print('Prevelance:',Prevelance_NB)\n",
    "print('Lift:',Lift_NB)\n"
   ]
  },
  {
   "cell_type": "markdown",
   "metadata": {
    "slideshow": {
     "slide_type": "slide"
    }
   },
   "source": [
    "### Grid Search Logistic Regression with Dowsampling - No Feature Selection"
   ]
  },
  {
   "cell_type": "code",
   "execution_count": 30,
   "metadata": {
    "slideshow": {
     "slide_type": "subslide"
    }
   },
   "outputs": [
    {
     "name": "stdout",
     "output_type": "stream",
     "text": [
      "GridSearch Logistic Regression Best Penalty: l2\n",
      "GridSearch Logistic Regression Best C: 0.01\n",
      "Accuracy of Log. Reg. classifier on training set: 0.620453507837\n",
      "Accuracy of Log. Reg. classifier on test set: 0.658315714633\n",
      "\n",
      "\n",
      "Classification report :\n",
      "\n",
      "              precision    recall  f1-score   support\n",
      "\n",
      "          0       0.97      0.66      0.79     50688\n",
      "          1       0.08      0.57      0.15      2759\n",
      "\n",
      "avg / total       0.92      0.66      0.75     53447\n",
      "\n",
      "Confusion Matrix:\n"
     ]
    },
    {
     "data": {
      "image/png": "[encoded data removed]",
      "text/plain": [
       "<Figure size 576x396 with 1 Axes>"
      ]
     },
     "metadata": {},
     "output_type": "display_data"
    },
    {
     "name": "stdout",
     "output_type": "stream",
     "text": [
      "ROC Curve\n",
      "AUROC Score: 0.648729008953\n"
     ]
    },
    {
     "data": {
      "image/png": "[encoded data removed]",
      "text/plain": [
       "<Figure size 576x396 with 1 Axes>"
      ]
     },
     "metadata": {},
     "output_type": "display_data"
    }
   ],
   "source": [
    "from sklearn.model_selection import GridSearchCV\n",
    "from sklearn.linear_model import LogisticRegression\n",
    "from sklearn.metrics import confusion_matrix, classification_report\n",
    "from sklearn.model_selection import StratifiedKFold\n",
    "log = LogisticRegression(random_state=0)\n",
    "\n",
    "#Regularization penalty space\n",
    "penalty = ['l1', 'l2']\n",
    "\n",
    "#Regularization hyperparameter space\n",
    "C = [0.01, 0.1, 1, 10, 100]\n",
    "\n",
    "#Hyperparameter options\n",
    "hyperparameters = dict(C=C, penalty=penalty)\n",
    "\n",
    "#Grid search using 3-fold cross validation\n",
    "kfold = StratifiedKFold(n_splits=3) \n",
    "logclf = GridSearchCV(log, hyperparameters, cv=kfold, verbose=0)\n",
    "\n",
    "#Fit Grid Search \n",
    "best_model = logclf.fit(X_train, y_train)\n",
    "\n",
    "print('GridSearch Logistic Regression Best Penalty:', best_model.best_estimator_.get_params()['penalty'])\n",
    "print('GridSearch Logistic Regression Best C:', best_model.best_estimator_.get_params()['C'])\n",
    "\n",
    "print('Accuracy of Log. Reg. classifier on training set:', best_model.score(X_train, y_train))\n",
    "print('Accuracy of Log. Reg. classifier on test set:', best_model.score(X_test, y_test))\n",
    "\n",
    "from sklearn import metrics\n",
    "ypred_logistic = best_model.predict(X_test)\n",
    "print('\\n\\nClassification report :\\n\\n', classification_report(y_test, ypred_logistic))\n",
    "\n",
    "from sklearn.metrics import confusion_matrix\n",
    "import matplotlib.pyplot as plt\n",
    "import seaborn as sns\n",
    "print('Confusion Matrix:')\n",
    "mat_logistic = confusion_matrix(y_test, ypred_logistic)\n",
    "sns.heatmap(mat_logistic.T, square=True, annot=True, fmt='d', cbar=False)\n",
    "\n",
    "plt.xlabel('true label')\n",
    "plt.ylabel('predicted label')\n",
    "plt.show();\n",
    "\n",
    "from sklearn.metrics import roc_auc_score\n",
    "\n",
    "predict_proba_y = best_model.predict_proba(X_test)\n",
    "predict_proba_y = best_model.predict_proba(X_test)[:,1]\n",
    "\n",
    "\n",
    "from sklearn.metrics import roc_curve, auc\n",
    "fpr, tpr, thresholds = roc_curve(y_test, predict_proba_y, pos_label=1)\n",
    "auc_result = auc(fpr, tpr)\n",
    "print('ROC Curve')\n",
    "print('AUROC Score:',roc_auc_score(y_test, predict_proba_y))\n",
    "plt.figure(1)\n",
    "plt.plot([0, 1], [0, 1], 'k--')\n",
    "plt.plot(fpr, tpr, label='area = {0:0.2f}'.format(auc_result))\n",
    "plt.xlabel('False positive rate')\n",
    "plt.ylabel('True positive rate')\n",
    "plt.title('ROC curve')\n",
    "plt.legend(loc='best')\n",
    "plt.show()"
   ]
  },
  {
   "cell_type": "code",
   "execution_count": 31,
   "metadata": {
    "slideshow": {
     "slide_type": "subslide"
    }
   },
   "outputs": [
    {
     "name": "stdout",
     "output_type": "stream",
     "text": [
      "PPV: 0.08399076906563624\n",
      "Prevelance: 0.051621232248769806\n",
      "Lift: 1.6270585843606598\n"
     ]
    }
   ],
   "source": [
    "PPV_Log = 1565/(1565+17068)\n",
    "\n",
    "Prevelance_Log = (1565+1194)/53447\n",
    "\n",
    "Lift_Log = PPV_Log/Prevelance_Log\n",
    "\n",
    "print('PPV:',PPV_Log)\n",
    "print('Prevelance:',Prevelance_Log)\n",
    "print('Lift:',Lift_Log)\n"
   ]
  },
  {
   "cell_type": "markdown",
   "metadata": {
    "slideshow": {
     "slide_type": "slide"
    }
   },
   "source": [
    "### Grid Search Logistic Regression with Dowsampling - Feature Selection"
   ]
  },
  {
   "cell_type": "code",
   "execution_count": 32,
   "metadata": {
    "slideshow": {
     "slide_type": "subslide"
    }
   },
   "outputs": [
    {
     "data": {
      "text/plain": [
       "(13142, 17)"
      ]
     },
     "execution_count": 32,
     "metadata": {},
     "output_type": "execute_result"
    }
   ],
   "source": [
    "### Feature Selection: Logistic Regression\n",
    "from sklearn.linear_model import LogisticRegression\n",
    "from sklearn.feature_selection import SelectFromModel\n",
    "log = LogisticRegression(random_state=0,class_weight='balanced', C=0.01)\n",
    "select_from_model = SelectFromModel(log, threshold='median')\n",
    "select_from_model.fit(X_train, y_train)\n",
    "attribs_selected = list(X_train.columns[select_from_model.get_support()])\n",
    "\n",
    "X_train_feature_Log=X_train[attribs_selected]\n",
    "\n",
    "X_test_feature_Log =X_test[attribs_selected]\n",
    "\n",
    "X_train_feature_Log.shape"
   ]
  },
  {
   "cell_type": "code",
   "execution_count": 33,
   "metadata": {
    "slideshow": {
     "slide_type": "subslide"
    }
   },
   "outputs": [
    {
     "name": "stdout",
     "output_type": "stream",
     "text": [
      "GridSearch Logistic Regression Best Penalty: l2\n",
      "GridSearch Logistic Regression Best C: 10\n",
      "Accuracy of Log. Reg. classifier on training set: 0.620910059352\n",
      "Accuracy of Log. Reg. classifier on test set: 0.656650513593\n",
      "\n",
      "\n",
      "Classification report :\n",
      "\n",
      "              precision    recall  f1-score   support\n",
      "\n",
      "          0       0.97      0.66      0.79     50688\n",
      "          1       0.08      0.57      0.15      2759\n",
      "\n",
      "avg / total       0.92      0.66      0.75     53447\n",
      "\n",
      "Confusion Matrix:\n"
     ]
    },
    {
     "data": {
      "image/png": "[encoded data removed]",
      "text/plain": [
       "<Figure size 576x396 with 1 Axes>"
      ]
     },
     "metadata": {},
     "output_type": "display_data"
    },
    {
     "name": "stdout",
     "output_type": "stream",
     "text": [
      "ROC Curve\n",
      "AUROC Score: 0.646899496563\n"
     ]
    },
    {
     "data": {
      "image/png": "[encoded data removed]",
      "text/plain": [
       "<Figure size 576x396 with 1 Axes>"
      ]
     },
     "metadata": {},
     "output_type": "display_data"
    }
   ],
   "source": [
    "from sklearn.model_selection import GridSearchCV\n",
    "from sklearn.linear_model import LogisticRegression\n",
    "from sklearn.metrics import confusion_matrix, classification_report\n",
    "from sklearn.model_selection import StratifiedKFold\n",
    "log = LogisticRegression(random_state=0)\n",
    "\n",
    "#Regularization penalty space\n",
    "penalty = ['l1', 'l2']\n",
    "\n",
    "#Regularization hyperparameter space\n",
    "C = [0.01, 0.1, 1, 10, 100]\n",
    "\n",
    "#Hyperparameter options\n",
    "hyperparameters = dict(C=C, penalty=penalty)\n",
    "\n",
    "\n",
    "#Grid search using 3-fold cross validation\n",
    "kfold = StratifiedKFold(n_splits=3) \n",
    "logclf1 = GridSearchCV(log, hyperparameters, cv=kfold, verbose=0)\n",
    "\n",
    "#Fit Grid Search \n",
    "best_model = logclf1.fit(X_train_feature_Log, y_train)\n",
    "\n",
    "print('GridSearch Logistic Regression Best Penalty:', best_model.best_estimator_.get_params()['penalty'])\n",
    "print('GridSearch Logistic Regression Best C:', best_model.best_estimator_.get_params()['C'])\n",
    "\n",
    "print('Accuracy of Log. Reg. classifier on training set:', best_model.score(X_train_feature_Log, y_train))\n",
    "print('Accuracy of Log. Reg. classifier on test set:', best_model.score(X_test_feature_Log, y_test))\n",
    "\n",
    "from sklearn import metrics\n",
    "ypred_logistic = best_model.predict(X_test_feature_Log)\n",
    "print('\\n\\nClassification report :\\n\\n', classification_report(y_test, ypred_logistic))\n",
    "\n",
    "from sklearn.metrics import confusion_matrix\n",
    "import matplotlib.pyplot as plt\n",
    "import seaborn as sns\n",
    "print('Confusion Matrix:')\n",
    "mat_logistic = confusion_matrix(y_test, ypred_logistic)\n",
    "sns.heatmap(mat_logistic.T, square=True, annot=True, fmt='d', cbar=False)\n",
    "\n",
    "plt.xlabel('true label')\n",
    "plt.ylabel('predicted label')\n",
    "plt.show();\n",
    "\n",
    "from sklearn.metrics import roc_auc_score\n",
    "\n",
    "predict_proba_y = best_model.predict_proba(X_test_feature_Log)[:,1]\n",
    "\n",
    "from sklearn.metrics import roc_curve, auc\n",
    "fpr, tpr, thresholds = roc_curve(y_test, predict_proba_y, pos_label=1)\n",
    "auc_result = auc(fpr, tpr)\n",
    "print('ROC Curve')\n",
    "print('AUROC Score:',roc_auc_score(y_test, predict_proba_y))\n",
    "plt.figure(1)\n",
    "plt.plot([0, 1], [0, 1], 'k--')\n",
    "plt.plot(fpr, tpr, label='area = {0:0.2f}'.format(auc_result))\n",
    "plt.xlabel('False positive rate')\n",
    "plt.ylabel('True positive rate')\n",
    "plt.title('ROC curve')\n",
    "plt.legend(loc='best')\n",
    "plt.show()"
   ]
  },
  {
   "cell_type": "code",
   "execution_count": 34,
   "metadata": {
    "slideshow": {
     "slide_type": "subslide"
    }
   },
   "outputs": [
    {
     "name": "stdout",
     "output_type": "stream",
     "text": [
      "PPV: 0.08376935397757608\n",
      "Prevelance: 0.051621232248769806\n",
      "Lift: 1.6227693592024317\n"
     ]
    }
   ],
   "source": [
    "PPV_Log_feature = 1569/(1569+17161)\n",
    "\n",
    "Prevelance_Log_feature = (1569+1190)/53447\n",
    "\n",
    "Lift_Log_feature = PPV_Log_feature/Prevelance_Log_feature\n",
    "\n",
    "print('PPV:',PPV_Log_feature)\n",
    "print('Prevelance:',Prevelance_Log_feature)\n",
    "print('Lift:',Lift_Log_feature)\n"
   ]
  },
  {
   "cell_type": "markdown",
   "metadata": {
    "slideshow": {
     "slide_type": "slide"
    }
   },
   "source": [
    "### Grid Search Random Forest with Dowsampling - No Feature Selection"
   ]
  },
  {
   "cell_type": "code",
   "execution_count": 35,
   "metadata": {
    "slideshow": {
     "slide_type": "subslide"
    }
   },
   "outputs": [
    {
     "name": "stdout",
     "output_type": "stream",
     "text": [
      "GridSearchCV(cv=StratifiedKFold(n_splits=3, random_state=None, shuffle=False),\n",
      "       error_score='raise',\n",
      "       estimator=RandomForestClassifier(bootstrap=True, class_weight=None, criterion='gini',\n",
      "            max_depth=None, max_features='auto', max_leaf_nodes=None,\n",
      "            min_impurity_decrease=0.0, min_impurity_split=None,\n",
      "            min_samples_leaf=1, min_samples_split=2,\n",
      "            min_weight_fraction_leaf=0.0, n_estimators=10, n_jobs=1,\n",
      "            oob_score=False, random_state=0, verbose=0, warm_start=False),\n",
      "       fit_params=None, iid=True, n_jobs=1,\n",
      "       param_grid=[{'n_estimators': [1, 5, 10, 20, 40, 80, 100, 200, 500, 1000], 'max_depth': [4, 5, 6, 7]}],\n",
      "       pre_dispatch='2*n_jobs', refit=True, return_train_score='warn',\n",
      "       scoring=None, verbose=0)\n",
      "\n",
      "0.656140617866\n",
      "100\n",
      "7\n"
     ]
    }
   ],
   "source": [
    "# Grid Search for Random Forest\n",
    "from sklearn.model_selection import StratifiedKFold \n",
    "from sklearn.ensemble import RandomForestClassifier\n",
    "from sklearn.model_selection import GridSearchCV\n",
    "\n",
    "kfold = StratifiedKFold(n_splits=3) \n",
    "\n",
    "rfclf = RandomForestClassifier(random_state=0)\n",
    "parameter =[{'n_estimators' : [1,5,10,20,40,80,100,200,500,1000],\n",
    "             'max_depth' : [4,5,6,7]}]\n",
    "\n",
    "tree_grid = GridSearchCV(rfclf,parameter, cv=kfold)\n",
    "tree_grid.fit(X_train,y_train)\n",
    "\n",
    "print(tree_grid)\n",
    "print('')\n",
    "print(tree_grid.best_score_) \n",
    "print(tree_grid.best_estimator_.n_estimators) \n",
    "print(tree_grid.best_estimator_.max_depth) \n"
   ]
  },
  {
   "cell_type": "code",
   "execution_count": 124,
   "metadata": {
    "slideshow": {
     "slide_type": "subslide"
    }
   },
   "outputs": [
    {
     "name": "stdout",
     "output_type": "stream",
     "text": [
      "Accuracy of RF classifier on training set: 0.68\n",
      "Accuracy of RF classifier on test set: 0.57\n",
      "\n",
      "Confusion matrix :\n",
      "\n"
     ]
    },
    {
     "data": {
      "image/png": "[encoded data removed]",
      "text/plain": [
       "<Figure size 576x396 with 1 Axes>"
      ]
     },
     "metadata": {},
     "output_type": "display_data"
    },
    {
     "name": "stdout",
     "output_type": "stream",
     "text": [
      "\n",
      "\n",
      "Classification report :\n",
      "\n",
      "              precision    recall  f1-score   support\n",
      "\n",
      "          0       0.97      0.56      0.71     50688\n",
      "          1       0.08      0.74      0.15      2759\n",
      "\n",
      "avg / total       0.93      0.57      0.68     53447\n",
      "\n",
      "ROC Curve\n"
     ]
    },
    {
     "data": {
      "image/png": "[encoded data removed]",
      "text/plain": [
       "<Figure size 576x396 with 1 Axes>"
      ]
     },
     "metadata": {},
     "output_type": "display_data"
    }
   ],
   "source": [
    "from sklearn.ensemble import RandomForestClassifier\n",
    "from sklearn.metrics import confusion_matrix, classification_report\n",
    "from sklearn.metrics import roc_curve, auc\n",
    "\n",
    "# Random Forest\n",
    "\n",
    "# without reduction\n",
    "rfclf = RandomForestClassifier(n_estimators=100, max_depth=7)\n",
    "rfclf.fit(X_train, y_train)\n",
    "\n",
    "predict_y_RF = rfclf.predict(X_test)\n",
    "predict_proba_y_RF = rfclf.predict_proba(X_test)[:,1]\n",
    "\n",
    "print('Accuracy of RF classifier on training set: {:.2f}'\n",
    "     .format(rfclf.score(X_train, y_train)))\n",
    "print('Accuracy of RF classifier on test set: {:.2f}'\n",
    "     .format(rfclf.score(X_test, y_test)))\n",
    "\n",
    "print('\\nConfusion matrix :\\n')\n",
    "mat = confusion_matrix(y_test, predict_y_RF)\n",
    "sns.heatmap(mat.T, square=True, annot=True, fmt='d', cbar=False)\n",
    "plt.xlabel('true label')\n",
    "plt.ylabel('predicted label')\n",
    "plt.show();\n",
    "\n",
    "\n",
    "print('\\n\\nClassification report :\\n\\n', classification_report(y_test, predict_y_RF))\n",
    "\n",
    "fpr, tpr, thresholds = roc_curve(y_test, predict_proba_y_RF, pos_label=1)\n",
    "auc_result = auc(fpr, tpr)\n",
    "print('ROC Curve')\n",
    "plt.figure(1)\n",
    "plt.plot([0, 1], [0, 1], 'k--')\n",
    "plt.plot(fpr, tpr, label='area = {0:0.2f}'.format(auc_result))\n",
    "plt.xlabel('False positive rate')\n",
    "plt.ylabel('True positive rate')\n",
    "plt.title('ROC curve')\n",
    "plt.legend(loc='best')\n",
    "plt.show()"
   ]
  },
  {
   "cell_type": "code",
   "execution_count": 36,
   "metadata": {
    "slideshow": {
     "slide_type": "subslide"
    }
   },
   "outputs": [
    {
     "name": "stdout",
     "output_type": "stream",
     "text": [
      "PPV: 0.08350816569994653\n",
      "Prevelance: 0.051621232248769806\n",
      "Lift: 1.6177096528325634\n"
     ]
    }
   ],
   "source": [
    "PPV_RF = 2030/(2030+22279)\n",
    "\n",
    "Prevelance_RF = (2030+729)/53447\n",
    "\n",
    "Lift_RF = PPV_RF/Prevelance_RF\n",
    "\n",
    "print('PPV:',PPV_RF)\n",
    "print('Prevelance:',Prevelance_RF)\n",
    "print('Lift:',Lift_RF)\n"
   ]
  },
  {
   "cell_type": "markdown",
   "metadata": {
    "slideshow": {
     "slide_type": "slide"
    }
   },
   "source": [
    "### Grid Search Random Forest with Dowsampling - Feature Selection"
   ]
  },
  {
   "cell_type": "code",
   "execution_count": 37,
   "metadata": {
    "slideshow": {
     "slide_type": "subslide"
    }
   },
   "outputs": [
    {
     "data": {
      "text/plain": [
       "(13142, 17)"
      ]
     },
     "execution_count": 37,
     "metadata": {},
     "output_type": "execute_result"
    }
   ],
   "source": [
    "### Feature Selection: Random Forest \n",
    "from sklearn.ensemble import RandomForestClassifier\n",
    "from sklearn.feature_selection import SelectFromModel\n",
    "rf = RandomForestClassifier(random_state=0,class_weight='balanced', max_depth=5)\n",
    "select_from_model = SelectFromModel(rf, threshold='median')\n",
    "select_from_model.fit(X_train, y_train)\n",
    "attribs_selected_RF = list(X_train.columns[select_from_model.get_support()])\n",
    "\n",
    "X_train_feature_RF=X_train[attribs_selected_RF]\n",
    "\n",
    "X_test_feature_RF =X_test[attribs_selected_RF]\n",
    "\n",
    "X_train_feature_RF.shape"
   ]
  },
  {
   "cell_type": "code",
   "execution_count": 38,
   "metadata": {
    "slideshow": {
     "slide_type": "subslide"
    }
   },
   "outputs": [
    {
     "name": "stdout",
     "output_type": "stream",
     "text": [
      "GridSearchCV(cv=StratifiedKFold(n_splits=3, random_state=None, shuffle=False),\n",
      "       error_score='raise',\n",
      "       estimator=RandomForestClassifier(bootstrap=True, class_weight=None, criterion='gini',\n",
      "            max_depth=None, max_features='auto', max_leaf_nodes=None,\n",
      "            min_impurity_decrease=0.0, min_impurity_split=None,\n",
      "            min_samples_leaf=1, min_samples_split=2,\n",
      "            min_weight_fraction_leaf=0.0, n_estimators=10, n_jobs=1,\n",
      "            oob_score=False, random_state=0, verbose=0, warm_start=False),\n",
      "       fit_params=None, iid=True, n_jobs=1,\n",
      "       param_grid=[{'n_estimators': [1, 5, 10, 20, 40, 80, 100, 200, 500, 1000], 'max_depth': [4, 5, 6, 7]}],\n",
      "       pre_dispatch='2*n_jobs', refit=True, return_train_score='warn',\n",
      "       scoring=None, verbose=0)\n",
      "\n",
      "0.65583625019\n",
      "500\n",
      "6\n"
     ]
    }
   ],
   "source": [
    "# Grid Search for Random Forest\n",
    "from sklearn.model_selection import StratifiedKFold \n",
    "from sklearn.ensemble import RandomForestClassifier\n",
    "from sklearn.model_selection import GridSearchCV\n",
    "\n",
    "kfold = StratifiedKFold(n_splits=3) \n",
    "\n",
    "rfclf1 = RandomForestClassifier(random_state=0)\n",
    "parameter =[{'n_estimators' : [1,5,10,20,40,80,100,200,500,1000],\n",
    "             'max_depth' : [4,5,6,7]}]\n",
    "\n",
    "tree_grid = GridSearchCV(rfclf1,parameter,cv=kfold)\n",
    "tree_grid.fit(X_train_feature_RF,y_train)\n",
    "\n",
    "print(tree_grid)\n",
    "print('')\n",
    "print(tree_grid.best_score_) \n",
    "print(tree_grid.best_estimator_.n_estimators) \n",
    "print(tree_grid.best_estimator_.max_depth) \n"
   ]
  },
  {
   "cell_type": "code",
   "execution_count": 129,
   "metadata": {
    "slideshow": {
     "slide_type": "subslide"
    }
   },
   "outputs": [
    {
     "name": "stdout",
     "output_type": "stream",
     "text": [
      "Accuracy of RF classifier on training set: 0.65\n",
      "Accuracy of RF classifier on test set: 0.56\n",
      "\n",
      "Confusion matrix :\n",
      "\n"
     ]
    },
    {
     "data": {
      "image/png": "[encoded data removed]",
      "text/plain": [
       "<Figure size 576x396 with 1 Axes>"
      ]
     },
     "metadata": {},
     "output_type": "display_data"
    },
    {
     "name": "stdout",
     "output_type": "stream",
     "text": [
      "\n",
      "\n",
      "Classification report :\n",
      "\n",
      "              precision    recall  f1-score   support\n",
      "\n",
      "          0       0.98      0.55      0.71     50688\n",
      "          1       0.08      0.74      0.15      2759\n",
      "\n",
      "avg / total       0.93      0.56      0.68     53447\n",
      "\n",
      "ROC Curve\n"
     ]
    },
    {
     "data": {
      "image/png": "[encoded data removed]",
      "text/plain": [
       "<Figure size 576x396 with 1 Axes>"
      ]
     },
     "metadata": {},
     "output_type": "display_data"
    }
   ],
   "source": [
    "from sklearn.ensemble import RandomForestClassifier\n",
    "from sklearn.metrics import confusion_matrix, classification_report\n",
    "from sklearn.metrics import roc_curve, auc\n",
    "\n",
    "# Random Forest\n",
    "\n",
    "rfclf1 = RandomForestClassifier(n_estimators=500, max_depth=6)\n",
    "rfclf1.fit(X_train_feature_RF, y_train)\n",
    "\n",
    "predict_y_RF1 = rfclf1.predict(X_test_feature_RF)\n",
    "predict_proba_y_RF1 = rfclf1.predict_proba(X_test_feature_RF)[:,1]\n",
    "\n",
    "print('Accuracy of RF classifier on training set: {:.2f}'\n",
    "     .format(rfclf1.score(X_train_feature, y_train)))\n",
    "print('Accuracy of RF classifier on test set: {:.2f}'\n",
    "     .format(rfclf1.score(X_test_feature_RF, y_test)))\n",
    "\n",
    "print('\\nConfusion matrix :\\n')\n",
    "mat = confusion_matrix(y_test, predict_y_RF1)\n",
    "sns.heatmap(mat.T, square=True, annot=True, fmt='d', cbar=False)\n",
    "plt.xlabel('true label')\n",
    "plt.ylabel('predicted label')\n",
    "plt.show();\n",
    "\n",
    "\n",
    "print('\\n\\nClassification report :\\n\\n', classification_report(y_test, predict_y_RF1))\n",
    "\n",
    "fpr, tpr, thresholds = roc_curve(y_test, predict_proba_y_RF1, pos_label=1)\n",
    "auc_result = auc(fpr, tpr)\n",
    "print('ROC Curve')\n",
    "plt.figure(1)\n",
    "plt.plot([0, 1], [0, 1], 'k--')\n",
    "plt.plot(fpr, tpr, label='area = {0:0.2f}'.format(auc_result))\n",
    "plt.xlabel('False positive rate')\n",
    "plt.ylabel('True positive rate')\n",
    "plt.title('ROC curve')\n",
    "plt.legend(loc='best')\n",
    "plt.show()"
   ]
  },
  {
   "cell_type": "code",
   "execution_count": 2,
   "metadata": {
    "slideshow": {
     "slide_type": "subslide"
    }
   },
   "outputs": [
    {
     "name": "stdout",
     "output_type": "stream",
     "text": [
      "PPV: 0.08376935397757608\n",
      "Prevelance: 0.051621232248769806\n",
      "Lift: 1.6227693592024317\n"
     ]
    }
   ],
   "source": [
    "PPV_RF_feature = 1569/(1569+17161)\n",
    "\n",
    "Prevelance_RF_feature = (1569+1190)/53447\n",
    "\n",
    "Lift_RF_feature = PPV_RF_feature/Prevelance_RF_feature\n",
    "\n",
    "print('PPV:',PPV_RF_feature)\n",
    "print('Prevelance:',Prevelance_RF_feature)\n",
    "print('Lift:',Lift_RF_feature)\n"
   ]
  },
  {
   "cell_type": "markdown",
   "metadata": {
    "slideshow": {
     "slide_type": "slide"
    }
   },
   "source": [
    "### Conclusion"
   ]
  },
  {
   "cell_type": "code",
   "execution_count": null,
   "metadata": {
    "collapsed": true,
    "slideshow": {
     "slide_type": "subslide"
    }
   },
   "outputs": [],
   "source": [
    "Undersampling data without Feature Selection:\n",
    "Training Accuracy - Gaussian Naive Bayes score 0.59, Logistic Regression score 0.62 while Random Forest 0.68.\n",
    "\n",
    "Testing Accuracy - Gaussian Naive Bayes score 0.64, Logistic Regression score 0.66 while Random Forest 0.57.\n",
    "\n",
    "Recall Majority Classes - Gaussian Naive Bayes 0.65 , Logistic Regression score 0.66 while Random Forest 0.56.\n",
    "\n",
    "Recall Minority Classes - Gaussian Naive Bayes 0.53, Logistic Regression score 0.57 while Random Forest 0.74.\n",
    "\n",
    "AUC - Gaussian Naive Bayes 0.60, Logistic Regression 0.65 while Random Forest 0.69\n",
    "\n",
    "Undersampling data with Feature Selection: \n",
    "Training Accuracy - Logistic Regression score 0.62 while Random Forest 0.65.\n",
    "\n",
    "Testing Accuracy - Logistic Regression score 0.66 while Random Forest 0.56.\n",
    "\n",
    "Recall Majority Classes - Logistic Regression score 0.66 while Random Forest 0.55.\n",
    "\n",
    "Recall Minority Classes - Logistic Regression score 0.57 while Random Forest 0.74.\n",
    "\n",
    "AUC - Logistic Regression 0.65 while Random Forest 0.69\n",
    "\n"
   ]
  }
 ],
 "metadata": {
  "celltoolbar": "Slideshow",
  "kernelspec": {
   "display_name": "Python 3",
   "language": "python",
   "name": "python3"
  },
  "language_info": {
   "codemirror_mode": {
    "name": "ipython",
    "version": 3
   },
   "file_extension": ".py",
   "mimetype": "text/x-python",
   "name": "python",
   "nbconvert_exporter": "python",
   "pygments_lexer": "ipython3",
   "version": "3.6.1"
  }
 },
 "nbformat": 4,
 "nbformat_minor": 2
}
